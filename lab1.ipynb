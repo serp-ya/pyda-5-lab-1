{
 "cells": [
  {
   "cell_type": "markdown",
   "metadata": {},
   "source": [
    "# Лабораторная работа по курсу «Python для анализа данных»"
   ]
  },
  {
   "cell_type": "markdown",
   "metadata": {},
   "source": [
    "При выполнении работы допускается использование любых внешних модулей и пакетов."
   ]
  },
  {
   "cell_type": "markdown",
   "metadata": {},
   "source": [
    "### Задача 1 "
   ]
  },
  {
   "cell_type": "markdown",
   "metadata": {},
   "source": [
    "Дана строка\n",
    "\n",
    "```\n",
    "string_01 = “Mama, just killed a man, put a gun against his head, pulled my trigger, now he's dead. Mama, life had just begun, but now I've gone and thrown it all away. Mama, ooh (any way the wind blows), didn't mean to make you cry. If I'm not back again this time tomorrow carry on, carry on as if nothing really matters.”\n",
    "```"
   ]
  },
  {
   "cell_type": "markdown",
   "metadata": {},
   "source": [
    "1. Посчитайте, сколько в строке символов (исключая пробелы).\n",
    "2. Посчитайте, сколько в строке слов.\n",
    "3. Напишите функцию, которая будет принимать в качестве аргумента букву и выводить все слова из строки, заканчивающиеся на эту букву (например, “s”).\n",
    "4. Не обязательно: Напишите функцию, которая будет принимать в качестве аргумента букву и выводить все слова из строки, начинающиеся на эту букву (например, “m”)."
   ]
  },
  {
   "cell_type": "code",
   "execution_count": 7,
   "metadata": {},
   "outputs": [
    {
     "name": "stdout",
     "output_type": "stream",
     "text": [
      "#1 250\n",
      "#2 61\n",
      "#3 ['his', \"he's\", 'this', 'as']\n",
      "#4 ['Mama,', 'man,', 'my', 'Mama,', 'Mama,', 'mean', 'make', 'matters.']\n"
     ]
    }
   ],
   "source": [
    "from functools import reduce\n",
    "\n",
    "string_01 = '\\\n",
    "Mama, just killed a man, put a gun against his head, pulled my trigger, \\\n",
    "now he\\'s dead. Mama, life had just begun, but now I\\'ve gone and thrown \\\n",
    "it all away. Mama, ooh (any way the wind blows), didn\\'t mean to make you \\\n",
    "cry. If I\\'m not back again this time tomorrow carry on, carry on as if \\\n",
    "nothing really matters.\\\n",
    "'\n",
    "\n",
    "# task 1\n",
    "chars_count = len( string_01.replace(' ', '') )\n",
    "\n",
    "# task 2\n",
    "words_count = len( string_01.split(' ') )\n",
    "\n",
    "def get_words_by_char(text: str, char: str, pos: int = 0):\n",
    "    words = text.split(' ')\n",
    "    return reduce(\n",
    "        lambda res, word: [*res, word] if word[pos].lower() == char.lower() else res,\n",
    "        words,\n",
    "        []\n",
    "    )\n",
    "\n",
    "# task 3\n",
    "def get_words_by_char_ending(text: str, char: str):\n",
    "    return get_words_by_char(text, char, -1)\n",
    "\n",
    "# task 4\n",
    "def get_words_by_char_start(text: str, char: str):\n",
    "    return get_words_by_char(text, char, 0)\n",
    "\n",
    "print('#1', chars_count)\n",
    "print('#2', words_count)\n",
    "print('#3', get_words_by_char_ending(string_01, 's'))\n",
    "print('#4', get_words_by_char_start(string_01, 'M'))"
   ]
  },
  {
   "cell_type": "markdown",
   "metadata": {},
   "source": [
    "### Задача 2"
   ]
  },
  {
   "cell_type": "markdown",
   "metadata": {},
   "source": [
    "Напишите код, который будет генерировать случайную последовательность из 6 цифр, одна из которых должна быть 3. Позиция цифры 3 должна определяться случайным образом. Результат должен быть строкой. Например: \"456309\" или \"330127\"."
   ]
  },
  {
   "cell_type": "code",
   "execution_count": 14,
   "metadata": {},
   "outputs": [
    {
     "ename": "TypeError",
     "evalue": "sequence item 0: expected str instance, int found",
     "output_type": "error",
     "traceback": [
      "\u001b[1;31m---------------------------------------------------------------------------\u001b[0m",
      "\u001b[1;31mTypeError\u001b[0m                                 Traceback (most recent call last)",
      "\u001b[1;32m<ipython-input-14-906f674d2ac1>\u001b[0m in \u001b[0;36m<module>\u001b[1;34m\u001b[0m\n\u001b[0;32m      8\u001b[0m     \u001b[1;32mreturn\u001b[0m \u001b[1;34m''\u001b[0m\u001b[1;33m.\u001b[0m\u001b[0mjoin\u001b[0m\u001b[1;33m(\u001b[0m\u001b[0mnumbers\u001b[0m\u001b[1;33m)\u001b[0m\u001b[1;33m\u001b[0m\u001b[1;33m\u001b[0m\u001b[0m\n\u001b[0;32m      9\u001b[0m \u001b[1;33m\u001b[0m\u001b[0m\n\u001b[1;32m---> 10\u001b[1;33m \u001b[0mgen_rand_num_with_3\u001b[0m\u001b[1;33m(\u001b[0m\u001b[1;33m)\u001b[0m\u001b[1;33m\u001b[0m\u001b[1;33m\u001b[0m\u001b[0m\n\u001b[0m",
      "\u001b[1;32m<ipython-input-14-906f674d2ac1>\u001b[0m in \u001b[0;36mgen_rand_num_with_3\u001b[1;34m(length)\u001b[0m\n\u001b[0;32m      6\u001b[0m     \u001b[0mnumbers\u001b[0m\u001b[1;33m[\u001b[0m\u001b[0mrandint\u001b[0m\u001b[1;33m(\u001b[0m\u001b[1;36m0\u001b[0m\u001b[1;33m,\u001b[0m \u001b[0mnumbers_last_index\u001b[0m\u001b[1;33m)\u001b[0m\u001b[1;33m]\u001b[0m \u001b[1;33m=\u001b[0m \u001b[1;36m3\u001b[0m\u001b[1;33m\u001b[0m\u001b[1;33m\u001b[0m\u001b[0m\n\u001b[0;32m      7\u001b[0m \u001b[1;33m\u001b[0m\u001b[0m\n\u001b[1;32m----> 8\u001b[1;33m     \u001b[1;32mreturn\u001b[0m \u001b[1;34m''\u001b[0m\u001b[1;33m.\u001b[0m\u001b[0mjoin\u001b[0m\u001b[1;33m(\u001b[0m\u001b[0mnumbers\u001b[0m\u001b[1;33m)\u001b[0m\u001b[1;33m\u001b[0m\u001b[1;33m\u001b[0m\u001b[0m\n\u001b[0m\u001b[0;32m      9\u001b[0m \u001b[1;33m\u001b[0m\u001b[0m\n\u001b[0;32m     10\u001b[0m \u001b[0mgen_rand_num_with_3\u001b[0m\u001b[1;33m(\u001b[0m\u001b[1;33m)\u001b[0m\u001b[1;33m\u001b[0m\u001b[1;33m\u001b[0m\u001b[0m\n",
      "\u001b[1;31mTypeError\u001b[0m: sequence item 0: expected str instance, int found"
     ]
    }
   ],
   "source": [
    "from random import randint\n",
    "\n",
    "def gen_rand_num_with_3(length: int = 6):\n",
    "    numbers = list(map(lambda _: randint(0, 9), range(length)))\n",
    "    numbers_last_index = len(numbers) - 1\n",
    "    numbers[randint(0, numbers_last_index)] = 3\n",
    "    \n",
    "    return ''.join(numbers)\n",
    "\n",
    "gen_rand_num_with_3()"
   ]
  },
  {
   "cell_type": "markdown",
   "metadata": {},
   "source": [
    "### Задача 3"
   ]
  },
  {
   "cell_type": "markdown",
   "metadata": {},
   "source": [
    "Дан список\n",
    "```\n",
    "list_01 = [1, 1, 2, 3, 5, 8, 13, 21, 34, 55, 89, 144, 233, 377, 610]\n",
    "```\n",
    "\n",
    "Напишите алгоритм, который выводит сумму элементов списка, которые больше 10, но меньше 100."
   ]
  },
  {
   "cell_type": "code",
   "execution_count": 9,
   "metadata": {},
   "outputs": [
    {
     "data": {
      "text/plain": [
       "212"
      ]
     },
     "execution_count": 9,
     "metadata": {},
     "output_type": "execute_result"
    }
   ],
   "source": [
    "list_01 = [1, 1, 2, 3, 5, 8, 13, 21, 34, 55, 89, 144, 233, 377, 610]\n",
    "\n",
    "sum(\n",
    "    filter(lambda num: 10 < num < 100, list_01)\n",
    ")"
   ]
  },
  {
   "cell_type": "markdown",
   "metadata": {},
   "source": [
    "### Задача 4"
   ]
  },
  {
   "cell_type": "markdown",
   "metadata": {},
   "source": [
    "Данные студентов представлены в виде списка списков:\n",
    "```\n",
    "students = [\n",
    "  ['0001', 'Антонов', 'Антон', 'Игоревич', '20.08.2009', 'БСТ161'],\n",
    "  ['1102', 'Богов', 'Артем', 'Игоревич', '25.01.2010', 'БСТ162'],\n",
    "  ['0333', 'Глаголева', 'Анастасия', 'Николаевна', '11.07.2009', 'БСТ163'],\n",
    "  ['4004', 'Степанова', 'Наталья', 'Александровна', '13.02.2008', 'БСТ161'],\n",
    "  ['0045', 'Боков', 'Игорь', 'Харитонович', '02.06.2009', 'БСТ161'],\n",
    "  ['0096', 'Васильков', 'Валентин', 'Сергеевич', '20.03.2009', 'БСТ164'],\n",
    "  ['0607', 'Сиропова', 'Виолетта', 'Эдуардовна', '28.05.2010', 'БСТ162'],\n",
    "  ['0309', 'Шафутинский', 'Михаил', 'Михайлович', '03.09.2007', 'БСТ163']\n",
    "]\n",
    "]\n",
    "```"
   ]
  },
  {
   "cell_type": "markdown",
   "metadata": {},
   "source": [
    "1. Преобразуйте данные таким образом, чтобы они были представлены в виде\n",
    "словаря, в котором ключами являются номера студентов, а значениями —\n",
    "список из других данных о студентах.\n",
    "2. Напишите функцию, которая принимает в качестве аргумента номер студента и\n",
    "новый номер группы и позволяет изменить номер группы этого студента на\n",
    "новый.\n",
    "3. Напишите функцию, которая принимает номер группы и выводит список\n",
    "(фамилии, имена, отчества) всех студентов этой группы."
   ]
  },
  {
   "cell_type": "code",
   "execution_count": 10,
   "metadata": {},
   "outputs": [
    {
     "name": "stdout",
     "output_type": "stream",
     "text": [
      "\n",
      "#1\n",
      " {'0001': ['Антонов', 'Антон', 'Игоревич', '20.08.2009', 'БСТ161'], '1102': ['Богов', 'Артем', 'Игоревич', '25.01.2010', 'БСТ162'], '0333': ['Глаголева', 'Анастасия', 'Николаевна', '11.07.2009', 'БСТ163'], '4004': ['Степанова', 'Наталья', 'Александровна', '13.02.2008', 'БСТ161'], '0045': ['Боков', 'Игорь', 'Харитонович', '02.06.2009', 'БСТ161'], '0096': ['Васильков', 'Валентин', 'Сергеевич', '20.03.2009', 'БСТ164'], '0607': ['Сиропова', 'Виолетта', 'Эдуардовна', '28.05.2010', 'БСТ162'], '0309': ['Шафутинский', 'Михаил', 'Михайлович', '03.09.2007', 'БСТ163']}\n",
      "\n",
      "#2\n",
      " [['0001', 'Антонов', 'Антон', 'Игоревич', '20.08.2009', 'БСТ162'], ['1102', 'Богов', 'Артем', 'Игоревич', '25.01.2010', 'БСТ162'], ['0333', 'Глаголева', 'Анастасия', 'Николаевна', '11.07.2009', 'БСТ163'], ['4004', 'Степанова', 'Наталья', 'Александровна', '13.02.2008', 'БСТ161'], ['0045', 'Боков', 'Игорь', 'Харитонович', '02.06.2009', 'БСТ161'], ['0096', 'Васильков', 'Валентин', 'Сергеевич', '20.03.2009', 'БСТ164'], ['0607', 'Сиропова', 'Виолетта', 'Эдуардовна', '28.05.2010', 'БСТ162'], ['0309', 'Шафутинский', 'Михаил', 'Михайлович', '03.09.2007', 'БСТ163']]\n",
      "\n",
      "#3\n",
      " ['Антонов Антон Игоревич', 'Богов Артем Игоревич', 'Сиропова Виолетта Эдуардовна']\n"
     ]
    }
   ],
   "source": [
    "students = [\n",
    "  ['0001', 'Антонов', 'Антон', 'Игоревич', '20.08.2009', 'БСТ161'],\n",
    "  ['1102', 'Богов', 'Артем', 'Игоревич', '25.01.2010', 'БСТ162'],\n",
    "  ['0333', 'Глаголева', 'Анастасия', 'Николаевна', '11.07.2009', 'БСТ163'],\n",
    "  ['4004', 'Степанова', 'Наталья', 'Александровна', '13.02.2008', 'БСТ161'],\n",
    "  ['0045', 'Боков', 'Игорь', 'Харитонович', '02.06.2009', 'БСТ161'],\n",
    "  ['0096', 'Васильков', 'Валентин', 'Сергеевич', '20.03.2009', 'БСТ164'],\n",
    "  ['0607', 'Сиропова', 'Виолетта', 'Эдуардовна', '28.05.2010', 'БСТ162'],\n",
    "  ['0309', 'Шафутинский', 'Михаил', 'Михайлович', '03.09.2007', 'БСТ163']\n",
    "]\n",
    "\n",
    "# task 1\n",
    "def convert_stud_list_to_dict_by_num(stud_list):\n",
    "    keys = map(lambda stud: stud[0], stud_list)\n",
    "    values = map(lambda stud: stud[1:], stud_list)\n",
    "    \n",
    "    return dict(zip(keys, values))\n",
    "\n",
    "# task 2\n",
    "def change_group_num(stud_list, stud_num, new_group_num):\n",
    "    filtered_stud = list( filter( lambda stud: stud[0] == stud_num, stud_list ))\n",
    "    \n",
    "    if len(filtered_stud):\n",
    "        filtered_stud[0][-1] = new_group_num\n",
    "\n",
    "    return stud_list\n",
    "\n",
    "# task 3\n",
    "def get_fio(stud):\n",
    "    return f'{stud[1]} {stud[2]} {stud[3]}'\n",
    "\n",
    "def print_sutds_by_group(stud_list, group_num):\n",
    "    filtered_stud = list( filter( lambda stud: stud[-1] == group_num, stud_list))\n",
    "    return list(map(lambda stud: get_fio(stud), filtered_stud))\n",
    "\n",
    "\n",
    "print('\\n#1\\n', convert_stud_list_to_dict_by_num(students))\n",
    "print('\\n#2\\n', change_group_num(students, '0001', 'БСТ162'))\n",
    "print('\\n#3\\n', print_sutds_by_group(students, 'БСТ162'))"
   ]
  },
  {
   "cell_type": "markdown",
   "metadata": {},
   "source": [
    "### Задача 5"
   ]
  },
  {
   "cell_type": "markdown",
   "metadata": {},
   "source": [
    "Дана матрица:\n",
    "```\n",
    "matrix = [\n",
    "    [0, 1, 2, 4, 8],\n",
    "    [6, 2, 2, 1, 9],\n",
    "    [3, 3, 3, 3, 3],\n",
    "    [4, 6, 7, 1, 2],\n",
    "    [5, 7, 3, 4, 0]\n",
    "]\n",
    "```"
   ]
  },
  {
   "cell_type": "markdown",
   "metadata": {},
   "source": [
    "1. Выведите результат сложения всех элементов матрицы.\n",
    "2. Напишите алгоритм вычисления максимума из сумм элементов каждого\n",
    "столбца."
   ]
  },
  {
   "cell_type": "code",
   "execution_count": 11,
   "metadata": {},
   "outputs": [
    {
     "name": "stdout",
     "output_type": "stream",
     "text": [
      "#1 89\n",
      "#2 22\n"
     ]
    }
   ],
   "source": [
    "import numpy as np\n",
    "\n",
    "matrix = np.array([\n",
    "    [0, 1, 2, 4, 8],\n",
    "    [6, 2, 2, 1, 9],\n",
    "    [3, 3, 3, 3, 3],\n",
    "    [4, 6, 7, 1, 2],\n",
    "    [5, 7, 3, 4, 0]\n",
    "])\n",
    "\n",
    "# task 1\n",
    "print('#1', sum(sum(matrix)))\n",
    "\n",
    "# task 2\n",
    "print('#2', max(sum(matrix)))"
   ]
  }
 ],
 "metadata": {
  "kernelspec": {
   "display_name": "Python 3",
   "language": "python",
   "name": "python3"
  },
  "language_info": {
   "codemirror_mode": {
    "name": "ipython",
    "version": 3
   },
   "file_extension": ".py",
   "mimetype": "text/x-python",
   "name": "python",
   "nbconvert_exporter": "python",
   "pygments_lexer": "ipython3",
   "version": "3.7.4"
  }
 },
 "nbformat": 4,
 "nbformat_minor": 2
}
